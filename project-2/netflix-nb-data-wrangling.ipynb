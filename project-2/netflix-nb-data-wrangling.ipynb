{
 "cells": [
  {
   "cell_type": "code",
   "execution_count": 1,
   "id": "1bc112e1",
   "metadata": {
    "_cell_guid": "b1076dfc-b9ad-4769-8c92-a6c4dae69d19",
    "_uuid": "8f2839f25d086af736a60e9eeb907d3b93b6e0e5",
    "execution": {
     "iopub.execute_input": "2025-05-26T01:56:37.552027Z",
     "iopub.status.busy": "2025-05-26T01:56:37.551174Z",
     "iopub.status.idle": "2025-05-26T01:56:39.455131Z",
     "shell.execute_reply": "2025-05-26T01:56:39.454192Z"
    },
    "papermill": {
     "duration": 1.912746,
     "end_time": "2025-05-26T01:56:39.456636",
     "exception": false,
     "start_time": "2025-05-26T01:56:37.543890",
     "status": "completed"
    },
    "tags": []
   },
   "outputs": [
    {
     "name": "stdout",
     "output_type": "stream",
     "text": [
      "/kaggle/input/netflix-shows/netflix_titles.csv\n"
     ]
    }
   ],
   "source": [
    "# This Python 3 environment comes with many helpful analytics libraries installed\n",
    "# It is defined by the kaggle/python Docker image: https://github.com/kaggle/docker-python\n",
    "# For example, here's several helpful packages to load\n",
    "\n",
    "import numpy as np # linear algebra\n",
    "import pandas as pd # data processing, CSV file I/O (e.g. pd.read_csv)\n",
    "\n",
    "# Input data files are available in the read-only \"../input/\" directory\n",
    "# For example, running this (by clicking run or pressing Shift+Enter) will list all files under the input directory\n",
    "\n",
    "import os\n",
    "for dirname, _, filenames in os.walk('/kaggle/input'):\n",
    "    for filename in filenames:\n",
    "        print(os.path.join(dirname, filename))\n",
    "\n",
    "# You can write up to 20GB to the current directory (/kaggle/working/) that gets preserved as output when you create a version using \"Save & Run All\" \n",
    "# You can also write temporary files to /kaggle/temp/, but they won't be saved outside of the current session"
   ]
  },
  {
   "cell_type": "code",
   "execution_count": 2,
   "id": "13c67552",
   "metadata": {
    "execution": {
     "iopub.execute_input": "2025-05-26T01:56:39.469062Z",
     "iopub.status.busy": "2025-05-26T01:56:39.468633Z",
     "iopub.status.idle": "2025-05-26T01:56:39.474922Z",
     "shell.execute_reply": "2025-05-26T01:56:39.474136Z"
    },
    "papermill": {
     "duration": 0.01394,
     "end_time": "2025-05-26T01:56:39.476262",
     "exception": false,
     "start_time": "2025-05-26T01:56:39.462322",
     "status": "completed"
    },
    "tags": []
   },
   "outputs": [
    {
     "data": {
      "text/plain": [
       "'\\n  Title: Data Wrangling Project\\n  Name: Rachael Muriuki\\n  Date: 25 May 2025\\n  Description: Cleaning up the Netflix Dataset through various processes.\\n'"
      ]
     },
     "execution_count": 2,
     "metadata": {},
     "output_type": "execute_result"
    }
   ],
   "source": [
    "'''\n",
    "  Title: Data Wrangling Project\n",
    "  Name: Rachael Muriuki\n",
    "  Date: 25 May 2025\n",
    "  Description: Cleaning up the Netflix Dataset through various processes.\n",
    "'''"
   ]
  },
  {
   "cell_type": "markdown",
   "id": "8f9245c2",
   "metadata": {
    "papermill": {
     "duration": 0.004974,
     "end_time": "2025-05-26T01:56:39.486707",
     "exception": false,
     "start_time": "2025-05-26T01:56:39.481733",
     "status": "completed"
    },
    "tags": []
   },
   "source": [
    "# Data Science Project: Data Wrangling\n",
    "This project showcases my walkthrough for data wrangling using Python on Netflix Data. The steps that i will work through are:\n",
    "\n",
    "1. Discovery to understand the data, its existing format and quality issues to be addressed\n",
    "2. Structuring to understand the structure and standardize the formats\n",
    "3. Cleaning\n",
    "   .Remove Duplicates\n",
    "   .Remove Irrelevant Information\n",
    "   .Handle Missing values .Handle Outliers\n",
    "4. Enriching\n",
    "5. Validating\n",
    "6. Publishing"
   ]
  },
  {
   "cell_type": "markdown",
   "id": "b1429395",
   "metadata": {
    "papermill": {
     "duration": 0.004981,
     "end_time": "2025-05-26T01:56:39.496985",
     "exception": false,
     "start_time": "2025-05-26T01:56:39.492004",
     "status": "completed"
    },
    "tags": []
   },
   "source": [
    "Loading the Netflix_title csv file into a pandas DataFrame"
   ]
  },
  {
   "cell_type": "code",
   "execution_count": 3,
   "id": "95c64d5e",
   "metadata": {
    "execution": {
     "iopub.execute_input": "2025-05-26T01:56:39.509077Z",
     "iopub.status.busy": "2025-05-26T01:56:39.508774Z",
     "iopub.status.idle": "2025-05-26T01:56:39.669070Z",
     "shell.execute_reply": "2025-05-26T01:56:39.668239Z"
    },
    "papermill": {
     "duration": 0.167949,
     "end_time": "2025-05-26T01:56:39.670465",
     "exception": false,
     "start_time": "2025-05-26T01:56:39.502516",
     "status": "completed"
    },
    "tags": []
   },
   "outputs": [
    {
     "data": {
      "text/html": [
       "<div>\n",
       "<style scoped>\n",
       "    .dataframe tbody tr th:only-of-type {\n",
       "        vertical-align: middle;\n",
       "    }\n",
       "\n",
       "    .dataframe tbody tr th {\n",
       "        vertical-align: top;\n",
       "    }\n",
       "\n",
       "    .dataframe thead th {\n",
       "        text-align: right;\n",
       "    }\n",
       "</style>\n",
       "<table border=\"1\" class=\"dataframe\">\n",
       "  <thead>\n",
       "    <tr style=\"text-align: right;\">\n",
       "      <th></th>\n",
       "      <th>show_id</th>\n",
       "      <th>type</th>\n",
       "      <th>title</th>\n",
       "      <th>director</th>\n",
       "      <th>cast</th>\n",
       "      <th>country</th>\n",
       "      <th>date_added</th>\n",
       "      <th>release_year</th>\n",
       "      <th>rating</th>\n",
       "      <th>duration</th>\n",
       "      <th>listed_in</th>\n",
       "      <th>description</th>\n",
       "    </tr>\n",
       "  </thead>\n",
       "  <tbody>\n",
       "    <tr>\n",
       "      <th>0</th>\n",
       "      <td>s1</td>\n",
       "      <td>Movie</td>\n",
       "      <td>Dick Johnson Is Dead</td>\n",
       "      <td>Kirsten Johnson</td>\n",
       "      <td>NaN</td>\n",
       "      <td>United States</td>\n",
       "      <td>September 25, 2021</td>\n",
       "      <td>2020</td>\n",
       "      <td>PG-13</td>\n",
       "      <td>90 min</td>\n",
       "      <td>Documentaries</td>\n",
       "      <td>As her father nears the end of his life, filmm...</td>\n",
       "    </tr>\n",
       "    <tr>\n",
       "      <th>1</th>\n",
       "      <td>s2</td>\n",
       "      <td>TV Show</td>\n",
       "      <td>Blood &amp; Water</td>\n",
       "      <td>NaN</td>\n",
       "      <td>Ama Qamata, Khosi Ngema, Gail Mabalane, Thaban...</td>\n",
       "      <td>South Africa</td>\n",
       "      <td>September 24, 2021</td>\n",
       "      <td>2021</td>\n",
       "      <td>TV-MA</td>\n",
       "      <td>2 Seasons</td>\n",
       "      <td>International TV Shows, TV Dramas, TV Mysteries</td>\n",
       "      <td>After crossing paths at a party, a Cape Town t...</td>\n",
       "    </tr>\n",
       "    <tr>\n",
       "      <th>2</th>\n",
       "      <td>s3</td>\n",
       "      <td>TV Show</td>\n",
       "      <td>Ganglands</td>\n",
       "      <td>Julien Leclercq</td>\n",
       "      <td>Sami Bouajila, Tracy Gotoas, Samuel Jouy, Nabi...</td>\n",
       "      <td>NaN</td>\n",
       "      <td>September 24, 2021</td>\n",
       "      <td>2021</td>\n",
       "      <td>TV-MA</td>\n",
       "      <td>1 Season</td>\n",
       "      <td>Crime TV Shows, International TV Shows, TV Act...</td>\n",
       "      <td>To protect his family from a powerful drug lor...</td>\n",
       "    </tr>\n",
       "    <tr>\n",
       "      <th>3</th>\n",
       "      <td>s4</td>\n",
       "      <td>TV Show</td>\n",
       "      <td>Jailbirds New Orleans</td>\n",
       "      <td>NaN</td>\n",
       "      <td>NaN</td>\n",
       "      <td>NaN</td>\n",
       "      <td>September 24, 2021</td>\n",
       "      <td>2021</td>\n",
       "      <td>TV-MA</td>\n",
       "      <td>1 Season</td>\n",
       "      <td>Docuseries, Reality TV</td>\n",
       "      <td>Feuds, flirtations and toilet talk go down amo...</td>\n",
       "    </tr>\n",
       "    <tr>\n",
       "      <th>4</th>\n",
       "      <td>s5</td>\n",
       "      <td>TV Show</td>\n",
       "      <td>Kota Factory</td>\n",
       "      <td>NaN</td>\n",
       "      <td>Mayur More, Jitendra Kumar, Ranjan Raj, Alam K...</td>\n",
       "      <td>India</td>\n",
       "      <td>September 24, 2021</td>\n",
       "      <td>2021</td>\n",
       "      <td>TV-MA</td>\n",
       "      <td>2 Seasons</td>\n",
       "      <td>International TV Shows, Romantic TV Shows, TV ...</td>\n",
       "      <td>In a city of coaching centers known to train I...</td>\n",
       "    </tr>\n",
       "  </tbody>\n",
       "</table>\n",
       "</div>"
      ],
      "text/plain": [
       "  show_id     type                  title         director  \\\n",
       "0      s1    Movie   Dick Johnson Is Dead  Kirsten Johnson   \n",
       "1      s2  TV Show          Blood & Water              NaN   \n",
       "2      s3  TV Show              Ganglands  Julien Leclercq   \n",
       "3      s4  TV Show  Jailbirds New Orleans              NaN   \n",
       "4      s5  TV Show           Kota Factory              NaN   \n",
       "\n",
       "                                                cast        country  \\\n",
       "0                                                NaN  United States   \n",
       "1  Ama Qamata, Khosi Ngema, Gail Mabalane, Thaban...   South Africa   \n",
       "2  Sami Bouajila, Tracy Gotoas, Samuel Jouy, Nabi...            NaN   \n",
       "3                                                NaN            NaN   \n",
       "4  Mayur More, Jitendra Kumar, Ranjan Raj, Alam K...          India   \n",
       "\n",
       "           date_added  release_year rating   duration  \\\n",
       "0  September 25, 2021          2020  PG-13     90 min   \n",
       "1  September 24, 2021          2021  TV-MA  2 Seasons   \n",
       "2  September 24, 2021          2021  TV-MA   1 Season   \n",
       "3  September 24, 2021          2021  TV-MA   1 Season   \n",
       "4  September 24, 2021          2021  TV-MA  2 Seasons   \n",
       "\n",
       "                                           listed_in  \\\n",
       "0                                      Documentaries   \n",
       "1    International TV Shows, TV Dramas, TV Mysteries   \n",
       "2  Crime TV Shows, International TV Shows, TV Act...   \n",
       "3                             Docuseries, Reality TV   \n",
       "4  International TV Shows, Romantic TV Shows, TV ...   \n",
       "\n",
       "                                         description  \n",
       "0  As her father nears the end of his life, filmm...  \n",
       "1  After crossing paths at a party, a Cape Town t...  \n",
       "2  To protect his family from a powerful drug lor...  \n",
       "3  Feuds, flirtations and toilet talk go down amo...  \n",
       "4  In a city of coaching centers known to train I...  "
      ]
     },
     "execution_count": 3,
     "metadata": {},
     "output_type": "execute_result"
    }
   ],
   "source": [
    "#Import the Data to a Pandas Dataframe\n",
    "df = pd.read_csv('/kaggle/input/netflix-shows/netflix_titles.csv')\n",
    "\n",
    "#Preview\n",
    "df.head()"
   ]
  },
  {
   "cell_type": "markdown",
   "id": "d30f4013",
   "metadata": {
    "papermill": {
     "duration": 0.005287,
     "end_time": "2025-05-26T01:56:39.681555",
     "exception": false,
     "start_time": "2025-05-26T01:56:39.676268",
     "status": "completed"
    },
    "tags": []
   },
   "source": [
    "# Step 1: Discovery\n",
    "To understand the data, its existing format and quality issues to be addressed"
   ]
  },
  {
   "cell_type": "code",
   "execution_count": 4,
   "id": "034b03af",
   "metadata": {
    "execution": {
     "iopub.execute_input": "2025-05-26T01:56:39.693728Z",
     "iopub.status.busy": "2025-05-26T01:56:39.693396Z",
     "iopub.status.idle": "2025-05-26T01:56:39.723280Z",
     "shell.execute_reply": "2025-05-26T01:56:39.722352Z"
    },
    "papermill": {
     "duration": 0.037691,
     "end_time": "2025-05-26T01:56:39.724707",
     "exception": false,
     "start_time": "2025-05-26T01:56:39.687016",
     "status": "completed"
    },
    "tags": []
   },
   "outputs": [
    {
     "name": "stdout",
     "output_type": "stream",
     "text": [
      "<class 'pandas.core.frame.DataFrame'>\n",
      "RangeIndex: 8807 entries, 0 to 8806\n",
      "Data columns (total 12 columns):\n",
      " #   Column        Non-Null Count  Dtype \n",
      "---  ------        --------------  ----- \n",
      " 0   show_id       8807 non-null   object\n",
      " 1   type          8807 non-null   object\n",
      " 2   title         8807 non-null   object\n",
      " 3   director      6173 non-null   object\n",
      " 4   cast          7982 non-null   object\n",
      " 5   country       7976 non-null   object\n",
      " 6   date_added    8797 non-null   object\n",
      " 7   release_year  8807 non-null   int64 \n",
      " 8   rating        8803 non-null   object\n",
      " 9   duration      8804 non-null   object\n",
      " 10  listed_in     8807 non-null   object\n",
      " 11  description   8807 non-null   object\n",
      "dtypes: int64(1), object(11)\n",
      "memory usage: 825.8+ KB\n"
     ]
    }
   ],
   "source": [
    "#Have a quick overview of the data\n",
    "df.info()"
   ]
  },
  {
   "cell_type": "code",
   "execution_count": 5,
   "id": "0bf843cf",
   "metadata": {
    "execution": {
     "iopub.execute_input": "2025-05-26T01:56:39.737432Z",
     "iopub.status.busy": "2025-05-26T01:56:39.736607Z",
     "iopub.status.idle": "2025-05-26T01:56:39.741343Z",
     "shell.execute_reply": "2025-05-26T01:56:39.740426Z"
    },
    "papermill": {
     "duration": 0.012344,
     "end_time": "2025-05-26T01:56:39.742634",
     "exception": false,
     "start_time": "2025-05-26T01:56:39.730290",
     "status": "completed"
    },
    "tags": []
   },
   "outputs": [
    {
     "name": "stdout",
     "output_type": "stream",
     "text": [
      "Shape of the dataset(rows, columns): (8807, 12)\n"
     ]
    }
   ],
   "source": [
    "#Number of rows and columns\n",
    "print(\"Shape of the dataset(rows, columns):\", df.shape)\n"
   ]
  },
  {
   "cell_type": "code",
   "execution_count": 6,
   "id": "58d5b307",
   "metadata": {
    "execution": {
     "iopub.execute_input": "2025-05-26T01:56:39.755444Z",
     "iopub.status.busy": "2025-05-26T01:56:39.755181Z",
     "iopub.status.idle": "2025-05-26T01:56:39.759903Z",
     "shell.execute_reply": "2025-05-26T01:56:39.758984Z"
    },
    "papermill": {
     "duration": 0.013016,
     "end_time": "2025-05-26T01:56:39.761246",
     "exception": false,
     "start_time": "2025-05-26T01:56:39.748230",
     "status": "completed"
    },
    "tags": []
   },
   "outputs": [
    {
     "name": "stdout",
     "output_type": "stream",
     "text": [
      "Columns in the dataset:\n",
      " ['show_id', 'type', 'title', 'director', 'cast', 'country', 'date_added', 'release_year', 'rating', 'duration', 'listed_in', 'description']\n"
     ]
    }
   ],
   "source": [
    "#List of all column names\n",
    "print(\"Columns in the dataset:\\n\", df.columns.tolist())\n"
   ]
  },
  {
   "cell_type": "code",
   "execution_count": 7,
   "id": "33d61531",
   "metadata": {
    "execution": {
     "iopub.execute_input": "2025-05-26T01:56:39.773919Z",
     "iopub.status.busy": "2025-05-26T01:56:39.773283Z",
     "iopub.status.idle": "2025-05-26T01:56:39.779071Z",
     "shell.execute_reply": "2025-05-26T01:56:39.778008Z"
    },
    "papermill": {
     "duration": 0.013567,
     "end_time": "2025-05-26T01:56:39.780370",
     "exception": false,
     "start_time": "2025-05-26T01:56:39.766803",
     "status": "completed"
    },
    "tags": []
   },
   "outputs": [
    {
     "name": "stdout",
     "output_type": "stream",
     "text": [
      "Data types:\n",
      " show_id         object\n",
      "type            object\n",
      "title           object\n",
      "director        object\n",
      "cast            object\n",
      "country         object\n",
      "date_added      object\n",
      "release_year     int64\n",
      "rating          object\n",
      "duration        object\n",
      "listed_in       object\n",
      "description     object\n",
      "dtype: object\n"
     ]
    }
   ],
   "source": [
    "#Data types of each column\n",
    "print(\"Data types:\\n\", df.dtypes)"
   ]
  },
  {
   "cell_type": "code",
   "execution_count": 8,
   "id": "2fc31c55",
   "metadata": {
    "execution": {
     "iopub.execute_input": "2025-05-26T01:56:39.793425Z",
     "iopub.status.busy": "2025-05-26T01:56:39.793108Z",
     "iopub.status.idle": "2025-05-26T01:56:39.805114Z",
     "shell.execute_reply": "2025-05-26T01:56:39.803727Z"
    },
    "papermill": {
     "duration": 0.020084,
     "end_time": "2025-05-26T01:56:39.806637",
     "exception": false,
     "start_time": "2025-05-26T01:56:39.786553",
     "status": "completed"
    },
    "tags": []
   },
   "outputs": [
    {
     "name": "stdout",
     "output_type": "stream",
     "text": [
      "Missing values per column:\n",
      " show_id            0\n",
      "type               0\n",
      "title              0\n",
      "director        2634\n",
      "cast             825\n",
      "country          831\n",
      "date_added        10\n",
      "release_year       0\n",
      "rating             4\n",
      "duration           3\n",
      "listed_in          0\n",
      "description        0\n",
      "dtype: int64\n"
     ]
    }
   ],
   "source": [
    "#Group and Count of Missing(null) values in each column  \n",
    "print(\"Missing values per column:\\n\", df.isnull().sum())"
   ]
  },
  {
   "cell_type": "code",
   "execution_count": 9,
   "id": "4850dcc1",
   "metadata": {
    "execution": {
     "iopub.execute_input": "2025-05-26T01:56:39.820322Z",
     "iopub.status.busy": "2025-05-26T01:56:39.820056Z",
     "iopub.status.idle": "2025-05-26T01:56:39.840520Z",
     "shell.execute_reply": "2025-05-26T01:56:39.839613Z"
    },
    "papermill": {
     "duration": 0.02856,
     "end_time": "2025-05-26T01:56:39.841980",
     "exception": false,
     "start_time": "2025-05-26T01:56:39.813420",
     "status": "completed"
    },
    "tags": []
   },
   "outputs": [
    {
     "name": "stdout",
     "output_type": "stream",
     "text": [
      "Number of duplicate rows: 0\n"
     ]
    }
   ],
   "source": [
    "#Group and Count of duplicate rows\n",
    "print(\"Number of duplicate rows:\", df.duplicated().sum())               "
   ]
  },
  {
   "cell_type": "markdown",
   "id": "bc283a1a",
   "metadata": {
    "papermill": {
     "duration": 0.005508,
     "end_time": "2025-05-26T01:56:39.853144",
     "exception": false,
     "start_time": "2025-05-26T01:56:39.847636",
     "status": "completed"
    },
    "tags": []
   },
   "source": [
    "# 2. Structuring\n",
    "To understand the structure and standardize the formats"
   ]
  },
  {
   "cell_type": "code",
   "execution_count": 10,
   "id": "035a1f44",
   "metadata": {
    "execution": {
     "iopub.execute_input": "2025-05-26T01:56:39.865677Z",
     "iopub.status.busy": "2025-05-26T01:56:39.865377Z",
     "iopub.status.idle": "2025-05-26T01:56:40.021212Z",
     "shell.execute_reply": "2025-05-26T01:56:40.020244Z"
    },
    "papermill": {
     "duration": 0.163827,
     "end_time": "2025-05-26T01:56:40.022664",
     "exception": false,
     "start_time": "2025-05-26T01:56:39.858837",
     "status": "completed"
    },
    "tags": []
   },
   "outputs": [
    {
     "name": "stdout",
     "output_type": "stream",
     "text": [
      "    duration  duration_value duration_unit\n",
      "0     90 min            90.0           min\n",
      "1  2 Seasons             2.0       Seasons\n",
      "2   1 Season             1.0        Season\n",
      "3   1 Season             1.0        Season\n",
      "4  2 Seasons             2.0       Seasons\n"
     ]
    }
   ],
   "source": [
    "#Convert 'date-added' to datetime\n",
    "df['date_added'] = pd.to_datetime(df['date_added'], format='mixed')\n",
    "\n",
    "#Separate 'duration' into numeric value and unit \n",
    "df[['duration_value', 'duration_unit']] = df['duration'].str.extract(r'(\\d+)\\s*(\\w+)')\n",
    "\n",
    "#Convert duration_value to numeric\n",
    "df['duration_value'] = pd.to_numeric(df['duration_value'])\n",
    "\n",
    "#View Resulting columns\n",
    "print(df[['duration','duration_value','duration_unit']].head())"
   ]
  },
  {
   "cell_type": "code",
   "execution_count": 11,
   "id": "c8c44018",
   "metadata": {
    "execution": {
     "iopub.execute_input": "2025-05-26T01:56:40.036061Z",
     "iopub.status.busy": "2025-05-26T01:56:40.035300Z",
     "iopub.status.idle": "2025-05-26T01:56:40.056076Z",
     "shell.execute_reply": "2025-05-26T01:56:40.054853Z"
    },
    "papermill": {
     "duration": 0.029054,
     "end_time": "2025-05-26T01:56:40.057614",
     "exception": false,
     "start_time": "2025-05-26T01:56:40.028560",
     "status": "completed"
    },
    "tags": []
   },
   "outputs": [
    {
     "name": "stdout",
     "output_type": "stream",
     "text": [
      "Top Countries:\n",
      " country\n",
      "United States     2818\n",
      "India              972\n",
      "Unknown            831\n",
      "United Kingdom     419\n",
      "Japan              245\n",
      "Name: count, dtype: int64\n",
      "\n",
      "Top Directors:\n",
      " director\n",
      "Unknown                   2634\n",
      "Rajiv Chilaka               19\n",
      "Raúl Campos, Jan Suter      18\n",
      "Suhas Kadav                 16\n",
      "Marcus Raboy                16\n",
      "Name: count, dtype: int64\n",
      "\n",
      "Most Recent Release Years:\n",
      " release_year\n",
      "2021     592\n",
      "2020     953\n",
      "2019    1030\n",
      "2018    1147\n",
      "2017    1032\n",
      "Name: count, dtype: int64\n"
     ]
    }
   ],
   "source": [
    "#Handle missing values\n",
    "df['director'] = df['director'].fillna('Unknown')\n",
    "df['cast'] = df['cast'].fillna('Unknown')\n",
    "df['country'] = df['country'].fillna('Unknown')\n",
    "\n",
    "#Top 5 most common countries\n",
    "top_countries = df['country'].value_counts().head(5)\n",
    "print(\"Top Countries:\\n\", top_countries)\n",
    "\n",
    "#Top 5 most active directors\n",
    "top_directors = df['director'].value_counts().head(5)\n",
    "print(\"\\nTop Directors:\\n\", top_directors)\n",
    "\n",
    "#Top 5 release years\n",
    "top_years = df['release_year'].value_counts().sort_index(ascending=False).head(5)\n",
    "print(\"\\nMost Recent Release Years:\\n\", top_years)"
   ]
  },
  {
   "cell_type": "markdown",
   "id": "0421c1c2",
   "metadata": {
    "papermill": {
     "duration": 0.00564,
     "end_time": "2025-05-26T01:56:40.069156",
     "exception": false,
     "start_time": "2025-05-26T01:56:40.063516",
     "status": "completed"
    },
    "tags": []
   },
   "source": [
    "# 3. Cleaning\n",
    "To remove duplicates"
   ]
  },
  {
   "cell_type": "code",
   "execution_count": 12,
   "id": "529f7c70",
   "metadata": {
    "execution": {
     "iopub.execute_input": "2025-05-26T01:56:40.081934Z",
     "iopub.status.busy": "2025-05-26T01:56:40.081634Z",
     "iopub.status.idle": "2025-05-26T01:56:40.132193Z",
     "shell.execute_reply": "2025-05-26T01:56:40.131358Z"
    },
    "papermill": {
     "duration": 0.059028,
     "end_time": "2025-05-26T01:56:40.133949",
     "exception": false,
     "start_time": "2025-05-26T01:56:40.074921",
     "status": "completed"
    },
    "tags": []
   },
   "outputs": [],
   "source": [
    "#Drop description column because it will not be used\n",
    "df= df.drop(columns=['description'], errors='ignore')\n",
    "\n",
    "#Impute Director values by using relationship between cast and director\n",
    "#List of Director-Cast paisr and the number of times they appear\n",
    "df['dir_cast'] = df['director'] + '---'+ df['cast']\n",
    "\n",
    "counts = df['dir_cast'].value_counts()  #counts unique values\n",
    "filtered_counts = counts[counts >= 3]  #checks if repeated 3 or more times\n",
    "filtered_values = filtered_counts.index  #gets the values i.e names\n",
    "Ist_dir_cast = list(filtered_values)  #convert to list\n",
    " \n",
    "dict_direcast = dict()\n",
    "for i in Ist_dir_cast:\n",
    "     director,cast = i.split('---')\n",
    "     dict_direcast[director]=cast\n",
    "    \n",
    "for i in range(len(dict_direcast)):\n",
    "    df.loc[(df['director'].isna()) & (df['cast'] == list(dict_direcast.items())[i]\n",
    "                                      [1]),'director'] = list(dict_direcast.items())[i][0]\n",
    "    "
   ]
  },
  {
   "cell_type": "code",
   "execution_count": 13,
   "id": "20f5dd05",
   "metadata": {
    "execution": {
     "iopub.execute_input": "2025-05-26T01:56:40.147066Z",
     "iopub.status.busy": "2025-05-26T01:56:40.146750Z",
     "iopub.status.idle": "2025-05-26T01:56:40.160087Z",
     "shell.execute_reply": "2025-05-26T01:56:40.159207Z"
    },
    "papermill": {
     "duration": 0.021492,
     "end_time": "2025-05-26T01:56:40.161383",
     "exception": false,
     "start_time": "2025-05-26T01:56:40.139891",
     "status": "completed"
    },
    "tags": []
   },
   "outputs": [],
   "source": [
    "#Assign Not Given to all other director fields\n",
    "df.loc[df['director'].isna(),'director'] = 'Not Given'\n",
    "\n",
    "#Use directors to fill missing countries\n",
    "directors = df['director']\n",
    "countries = df['country']\n",
    "#pair each director with their country use zip() to get an iterator of tuples\n",
    "pairs = zip(directors, countries)\n",
    "#Convert the list of tuples into a dictionary\n",
    "dir_cntry = dict(list(pairs))\n",
    "\n",
    "#Director matched to Country values used to fill in null country values for i in range(len(dir_cntry)):\n",
    "df.loc[(df['country'].isna()) & (df['director'] == list(dir_cntry.items())[i][0]),'country'] = list(dir_cntry.items())[i][1]"
   ]
  },
  {
   "cell_type": "code",
   "execution_count": 14,
   "id": "3f566119",
   "metadata": {
    "execution": {
     "iopub.execute_input": "2025-05-26T01:56:40.174326Z",
     "iopub.status.busy": "2025-05-26T01:56:40.174058Z",
     "iopub.status.idle": "2025-05-26T01:56:40.181007Z",
     "shell.execute_reply": "2025-05-26T01:56:40.180241Z"
    },
    "papermill": {
     "duration": 0.015025,
     "end_time": "2025-05-26T01:56:40.182387",
     "exception": false,
     "start_time": "2025-05-26T01:56:40.167362",
     "status": "completed"
    },
    "tags": []
   },
   "outputs": [],
   "source": [
    "#Assign Not Given to all other country fields\n",
    "df.loc[df['country'].isna(),'country'] = 'Not Given'\n",
    "\n",
    "#Assign Not Given to all other fields\n",
    "df.loc[df['cast'].isna(), 'cast'] = 'Not Given'\n"
   ]
  },
  {
   "cell_type": "code",
   "execution_count": 15,
   "id": "d78c75f1",
   "metadata": {
    "execution": {
     "iopub.execute_input": "2025-05-26T01:56:40.195831Z",
     "iopub.status.busy": "2025-05-26T01:56:40.195524Z",
     "iopub.status.idle": "2025-05-26T01:56:40.214360Z",
     "shell.execute_reply": "2025-05-26T01:56:40.213623Z"
    },
    "papermill": {
     "duration": 0.027395,
     "end_time": "2025-05-26T01:56:40.215990",
     "exception": false,
     "start_time": "2025-05-26T01:56:40.188595",
     "status": "completed"
    },
    "tags": []
   },
   "outputs": [],
   "source": [
    "#dropping other row records that are null\n",
    "df.drop(df[df['date_added'].isna()].index,axis=0,inplace=True)\n",
    "df.drop(df[df['rating'].isna()].index, axis=0, inplace=True)\n",
    "df.drop(df[df['duration'].isna()].index, axis=0, inplace=True)"
   ]
  },
  {
   "cell_type": "code",
   "execution_count": 16,
   "id": "97e82429",
   "metadata": {
    "execution": {
     "iopub.execute_input": "2025-05-26T01:56:40.229378Z",
     "iopub.status.busy": "2025-05-26T01:56:40.229049Z",
     "iopub.status.idle": "2025-05-26T01:56:40.241605Z",
     "shell.execute_reply": "2025-05-26T01:56:40.240785Z"
    },
    "papermill": {
     "duration": 0.020995,
     "end_time": "2025-05-26T01:56:40.243023",
     "exception": false,
     "start_time": "2025-05-26T01:56:40.222028",
     "status": "completed"
    },
    "tags": []
   },
   "outputs": [
    {
     "data": {
      "text/plain": [
       "14"
      ]
     },
     "execution_count": 16,
     "metadata": {},
     "output_type": "execute_result"
    }
   ],
   "source": [
    "#Errors\n",
    "#Check if there are any added_dates thatcome before release_year\n",
    "import datetime as dt\n",
    "sum(df['date_added'].dt.year < df['release_year'])\n",
    "df.loc[(df['date_added'].dt.year < df['release_year']),['date_added','release_year']]\n",
    "\n",
    "#sample some of the records and check that they have been accurately replaced \n",
    "df.iloc[[1551,1696,2920,3168]]\n",
    "\n",
    "#Confirm that no more release_year inconsistencies\n",
    "sum(df['date_added'].dt.year < df['release_year'])"
   ]
  },
  {
   "cell_type": "markdown",
   "id": "0056e16c",
   "metadata": {
    "papermill": {
     "duration": 0.005762,
     "end_time": "2025-05-26T01:56:40.254998",
     "exception": false,
     "start_time": "2025-05-26T01:56:40.249236",
     "status": "completed"
    },
    "tags": []
   },
   "source": [
    "# 4. Enriching\n",
    "Adding new useful features to improve anlysis"
   ]
  },
  {
   "cell_type": "code",
   "execution_count": 17,
   "id": "c3458138",
   "metadata": {
    "execution": {
     "iopub.execute_input": "2025-05-26T01:56:40.268308Z",
     "iopub.status.busy": "2025-05-26T01:56:40.268018Z",
     "iopub.status.idle": "2025-05-26T01:56:40.290851Z",
     "shell.execute_reply": "2025-05-26T01:56:40.289978Z"
    },
    "papermill": {
     "duration": 0.031555,
     "end_time": "2025-05-26T01:56:40.292548",
     "exception": false,
     "start_time": "2025-05-26T01:56:40.260993",
     "status": "completed"
    },
    "tags": []
   },
   "outputs": [],
   "source": [
    "#Type flag\n",
    "df['is_movie'] = df['type'] == 'Movie'\n",
    "\n",
    "#Duration value\n",
    "df['duration_value'] = df['duration'].str.extract(r'(\\d+)').astype(float)\n",
    "\n",
    "#Time-based features\n",
    "df['year_added'] = df['date_added']. dt.year\n",
    "df['month_added'] = df['date_added']. dt.month\n",
    "df['dayofweek_added'] = df['date_added'].dt.day_name()\n"
   ]
  },
  {
   "cell_type": "markdown",
   "id": "5af95e65",
   "metadata": {
    "papermill": {
     "duration": 0.005869,
     "end_time": "2025-05-26T01:56:40.304606",
     "exception": false,
     "start_time": "2025-05-26T01:56:40.298737",
     "status": "completed"
    },
    "tags": []
   },
   "source": [
    "# 5. Validating\n",
    "To ensure data is accurate, consistent and complete"
   ]
  },
  {
   "cell_type": "code",
   "execution_count": 18,
   "id": "25dc2366",
   "metadata": {
    "execution": {
     "iopub.execute_input": "2025-05-26T01:56:40.318299Z",
     "iopub.status.busy": "2025-05-26T01:56:40.317694Z",
     "iopub.status.idle": "2025-05-26T01:56:40.326071Z",
     "shell.execute_reply": "2025-05-26T01:56:40.325169Z"
    },
    "papermill": {
     "duration": 0.017073,
     "end_time": "2025-05-26T01:56:40.327712",
     "exception": false,
     "start_time": "2025-05-26T01:56:40.310639",
     "status": "completed"
    },
    "tags": []
   },
   "outputs": [],
   "source": [
    "#Remove any columns you may have added during wrnagling\n",
    "df.drop(columns=['dir_cast'], inplace=True, errors='ignore')"
   ]
  },
  {
   "cell_type": "code",
   "execution_count": 19,
   "id": "2648f5a0",
   "metadata": {
    "execution": {
     "iopub.execute_input": "2025-05-26T01:56:40.342359Z",
     "iopub.status.busy": "2025-05-26T01:56:40.342056Z",
     "iopub.status.idle": "2025-05-26T01:56:40.355462Z",
     "shell.execute_reply": "2025-05-26T01:56:40.354463Z"
    },
    "papermill": {
     "duration": 0.022987,
     "end_time": "2025-05-26T01:56:40.357335",
     "exception": false,
     "start_time": "2025-05-26T01:56:40.334348",
     "status": "completed"
    },
    "tags": []
   },
   "outputs": [
    {
     "name": "stdout",
     "output_type": "stream",
     "text": [
      "\n",
      "Missing values:\n",
      " show_id            0\n",
      "type               0\n",
      "title              0\n",
      "director           0\n",
      "cast               0\n",
      "country            0\n",
      "date_added         0\n",
      "release_year       0\n",
      "rating             0\n",
      "duration           0\n",
      "listed_in          0\n",
      "duration_value     0\n",
      "duration_unit      0\n",
      "is_movie           0\n",
      "year_added         0\n",
      "month_added        0\n",
      "dayofweek_added    0\n",
      "dtype: int64\n"
     ]
    }
   ],
   "source": [
    "#Check data consistency, accuracy, completeness\n",
    "print(\"\\nMissing values:\\n\", df.isnull().sum())"
   ]
  },
  {
   "cell_type": "code",
   "execution_count": 20,
   "id": "ff71d3b2",
   "metadata": {
    "execution": {
     "iopub.execute_input": "2025-05-26T01:56:40.376393Z",
     "iopub.status.busy": "2025-05-26T01:56:40.376008Z",
     "iopub.status.idle": "2025-05-26T01:56:40.395755Z",
     "shell.execute_reply": "2025-05-26T01:56:40.394751Z"
    },
    "papermill": {
     "duration": 0.030422,
     "end_time": "2025-05-26T01:56:40.397516",
     "exception": false,
     "start_time": "2025-05-26T01:56:40.367094",
     "status": "completed"
    },
    "tags": []
   },
   "outputs": [],
   "source": [
    "#Ensure correct data types\n",
    "df['date_added'] = pd.to_datetime(df['date_added'], errors='coerce')\n",
    "df['duration_value'] =pd.to_numeric(df['duration_value'], errors='coerce')"
   ]
  },
  {
   "cell_type": "code",
   "execution_count": 21,
   "id": "70cf77a7",
   "metadata": {
    "execution": {
     "iopub.execute_input": "2025-05-26T01:56:40.414803Z",
     "iopub.status.busy": "2025-05-26T01:56:40.414421Z",
     "iopub.status.idle": "2025-05-26T01:56:40.424736Z",
     "shell.execute_reply": "2025-05-26T01:56:40.423860Z"
    },
    "papermill": {
     "duration": 0.021231,
     "end_time": "2025-05-26T01:56:40.426219",
     "exception": false,
     "start_time": "2025-05-26T01:56:40.404988",
     "status": "completed"
    },
    "tags": []
   },
   "outputs": [],
   "source": [
    "#Apply sanity checks\n",
    "df = df[df['release_year'] >= 1997]"
   ]
  },
  {
   "cell_type": "code",
   "execution_count": 22,
   "id": "6d4852c6",
   "metadata": {
    "execution": {
     "iopub.execute_input": "2025-05-26T01:56:40.439698Z",
     "iopub.status.busy": "2025-05-26T01:56:40.439389Z",
     "iopub.status.idle": "2025-05-26T01:56:40.447975Z",
     "shell.execute_reply": "2025-05-26T01:56:40.447005Z"
    },
    "papermill": {
     "duration": 0.016913,
     "end_time": "2025-05-26T01:56:40.449365",
     "exception": false,
     "start_time": "2025-05-26T01:56:40.432452",
     "status": "completed"
    },
    "tags": []
   },
   "outputs": [
    {
     "name": "stdout",
     "output_type": "stream",
     "text": [
      "title           0\n",
      "type            0\n",
      "release_year    0\n",
      "date_added      0\n",
      "dtype: int64\n"
     ]
    }
   ],
   "source": [
    "#Check if any important fields are still missing\n",
    "important_cols = ['title', 'type', 'release_year','date_added']\n",
    "print(df[important_cols].isnull().sum())"
   ]
  },
  {
   "cell_type": "code",
   "execution_count": 23,
   "id": "30fd0fc8",
   "metadata": {
    "execution": {
     "iopub.execute_input": "2025-05-26T01:56:40.462966Z",
     "iopub.status.busy": "2025-05-26T01:56:40.462665Z",
     "iopub.status.idle": "2025-05-26T01:56:40.478944Z",
     "shell.execute_reply": "2025-05-26T01:56:40.478080Z"
    },
    "papermill": {
     "duration": 0.024695,
     "end_time": "2025-05-26T01:56:40.480313",
     "exception": false,
     "start_time": "2025-05-26T01:56:40.455618",
     "status": "completed"
    },
    "tags": []
   },
   "outputs": [
    {
     "data": {
      "text/html": [
       "<div>\n",
       "<style scoped>\n",
       "    .dataframe tbody tr th:only-of-type {\n",
       "        vertical-align: middle;\n",
       "    }\n",
       "\n",
       "    .dataframe tbody tr th {\n",
       "        vertical-align: top;\n",
       "    }\n",
       "\n",
       "    .dataframe thead th {\n",
       "        text-align: right;\n",
       "    }\n",
       "</style>\n",
       "<table border=\"1\" class=\"dataframe\">\n",
       "  <thead>\n",
       "    <tr style=\"text-align: right;\">\n",
       "      <th></th>\n",
       "      <th>show_id</th>\n",
       "      <th>type</th>\n",
       "      <th>title</th>\n",
       "      <th>director</th>\n",
       "      <th>cast</th>\n",
       "      <th>country</th>\n",
       "      <th>date_added</th>\n",
       "      <th>release_year</th>\n",
       "      <th>rating</th>\n",
       "      <th>duration</th>\n",
       "      <th>listed_in</th>\n",
       "      <th>duration_value</th>\n",
       "      <th>duration_unit</th>\n",
       "      <th>is_movie</th>\n",
       "      <th>year_added</th>\n",
       "      <th>month_added</th>\n",
       "      <th>dayofweek_added</th>\n",
       "    </tr>\n",
       "  </thead>\n",
       "  <tbody>\n",
       "    <tr>\n",
       "      <th>1495</th>\n",
       "      <td>s1496</td>\n",
       "      <td>Movie</td>\n",
       "      <td>Bridezilla</td>\n",
       "      <td>Andibachtiar Yusuf</td>\n",
       "      <td>Jessica Mila, Rio Dewanto, Sheila Dara, Rafael...</td>\n",
       "      <td>Indonesia</td>\n",
       "      <td>2020-12-24</td>\n",
       "      <td>2019</td>\n",
       "      <td>TV-MA</td>\n",
       "      <td>94 min</td>\n",
       "      <td>Comedies, Dramas, International Movies</td>\n",
       "      <td>94.0</td>\n",
       "      <td>min</td>\n",
       "      <td>True</td>\n",
       "      <td>2020</td>\n",
       "      <td>12</td>\n",
       "      <td>Thursday</td>\n",
       "    </tr>\n",
       "    <tr>\n",
       "      <th>3487</th>\n",
       "      <td>s3488</td>\n",
       "      <td>Movie</td>\n",
       "      <td>The Grandmaster</td>\n",
       "      <td>Wong Kar Wai</td>\n",
       "      <td>Tony Leung Chiu-wai, Zhang Ziyi, Chang Chen, X...</td>\n",
       "      <td>Hong Kong, China</td>\n",
       "      <td>2019-09-26</td>\n",
       "      <td>2013</td>\n",
       "      <td>PG-13</td>\n",
       "      <td>108 min</td>\n",
       "      <td>Action &amp; Adventure, Dramas, International Movies</td>\n",
       "      <td>108.0</td>\n",
       "      <td>min</td>\n",
       "      <td>True</td>\n",
       "      <td>2019</td>\n",
       "      <td>9</td>\n",
       "      <td>Thursday</td>\n",
       "    </tr>\n",
       "    <tr>\n",
       "      <th>2090</th>\n",
       "      <td>s2091</td>\n",
       "      <td>Movie</td>\n",
       "      <td>Edge of Seventeen</td>\n",
       "      <td>David Moreton</td>\n",
       "      <td>Chris Stafford, Tina Holmes, Andersen Gabrych,...</td>\n",
       "      <td>United States</td>\n",
       "      <td>2020-08-27</td>\n",
       "      <td>1998</td>\n",
       "      <td>TV-MA</td>\n",
       "      <td>103 min</td>\n",
       "      <td>Comedies, Dramas, Independent Movies</td>\n",
       "      <td>103.0</td>\n",
       "      <td>min</td>\n",
       "      <td>True</td>\n",
       "      <td>2020</td>\n",
       "      <td>8</td>\n",
       "      <td>Thursday</td>\n",
       "    </tr>\n",
       "    <tr>\n",
       "      <th>5132</th>\n",
       "      <td>s5133</td>\n",
       "      <td>Movie</td>\n",
       "      <td>The Secret</td>\n",
       "      <td>Drew Heriot</td>\n",
       "      <td>Unknown</td>\n",
       "      <td>Australia, United States</td>\n",
       "      <td>2017-12-07</td>\n",
       "      <td>2006</td>\n",
       "      <td>TV-14</td>\n",
       "      <td>91 min</td>\n",
       "      <td>Documentaries, Faith &amp; Spirituality</td>\n",
       "      <td>91.0</td>\n",
       "      <td>min</td>\n",
       "      <td>True</td>\n",
       "      <td>2017</td>\n",
       "      <td>12</td>\n",
       "      <td>Thursday</td>\n",
       "    </tr>\n",
       "    <tr>\n",
       "      <th>5158</th>\n",
       "      <td>s5159</td>\n",
       "      <td>Movie</td>\n",
       "      <td>Barbra: The Music ... The Mem'ries ... The Magic!</td>\n",
       "      <td>Barbra Streisand, Jim Gable</td>\n",
       "      <td>Barbra Streisand</td>\n",
       "      <td>United States</td>\n",
       "      <td>2017-11-22</td>\n",
       "      <td>2017</td>\n",
       "      <td>TV-14</td>\n",
       "      <td>109 min</td>\n",
       "      <td>Music &amp; Musicals</td>\n",
       "      <td>109.0</td>\n",
       "      <td>min</td>\n",
       "      <td>True</td>\n",
       "      <td>2017</td>\n",
       "      <td>11</td>\n",
       "      <td>Wednesday</td>\n",
       "    </tr>\n",
       "  </tbody>\n",
       "</table>\n",
       "</div>"
      ],
      "text/plain": [
       "     show_id   type                                              title  \\\n",
       "1495   s1496  Movie                                         Bridezilla   \n",
       "3487   s3488  Movie                                    The Grandmaster   \n",
       "2090   s2091  Movie                                  Edge of Seventeen   \n",
       "5132   s5133  Movie                                         The Secret   \n",
       "5158   s5159  Movie  Barbra: The Music ... The Mem'ries ... The Magic!   \n",
       "\n",
       "                         director  \\\n",
       "1495           Andibachtiar Yusuf   \n",
       "3487                 Wong Kar Wai   \n",
       "2090                David Moreton   \n",
       "5132                  Drew Heriot   \n",
       "5158  Barbra Streisand, Jim Gable   \n",
       "\n",
       "                                                   cast  \\\n",
       "1495  Jessica Mila, Rio Dewanto, Sheila Dara, Rafael...   \n",
       "3487  Tony Leung Chiu-wai, Zhang Ziyi, Chang Chen, X...   \n",
       "2090  Chris Stafford, Tina Holmes, Andersen Gabrych,...   \n",
       "5132                                            Unknown   \n",
       "5158                                   Barbra Streisand   \n",
       "\n",
       "                       country date_added  release_year rating duration  \\\n",
       "1495                 Indonesia 2020-12-24          2019  TV-MA   94 min   \n",
       "3487          Hong Kong, China 2019-09-26          2013  PG-13  108 min   \n",
       "2090             United States 2020-08-27          1998  TV-MA  103 min   \n",
       "5132  Australia, United States 2017-12-07          2006  TV-14   91 min   \n",
       "5158             United States 2017-11-22          2017  TV-14  109 min   \n",
       "\n",
       "                                             listed_in  duration_value  \\\n",
       "1495            Comedies, Dramas, International Movies            94.0   \n",
       "3487  Action & Adventure, Dramas, International Movies           108.0   \n",
       "2090              Comedies, Dramas, Independent Movies           103.0   \n",
       "5132               Documentaries, Faith & Spirituality            91.0   \n",
       "5158                                  Music & Musicals           109.0   \n",
       "\n",
       "     duration_unit  is_movie  year_added  month_added dayofweek_added  \n",
       "1495           min      True        2020           12        Thursday  \n",
       "3487           min      True        2019            9        Thursday  \n",
       "2090           min      True        2020            8        Thursday  \n",
       "5132           min      True        2017           12        Thursday  \n",
       "5158           min      True        2017           11       Wednesday  "
      ]
     },
     "execution_count": 23,
     "metadata": {},
     "output_type": "execute_result"
    }
   ],
   "source": [
    "#Visually inspect a few random rows\n",
    "df.sample(5)"
   ]
  },
  {
   "cell_type": "code",
   "execution_count": 24,
   "id": "8d20bc26",
   "metadata": {
    "execution": {
     "iopub.execute_input": "2025-05-26T01:56:40.496740Z",
     "iopub.status.busy": "2025-05-26T01:56:40.496348Z",
     "iopub.status.idle": "2025-05-26T01:56:40.507433Z",
     "shell.execute_reply": "2025-05-26T01:56:40.506239Z"
    },
    "papermill": {
     "duration": 0.022701,
     "end_time": "2025-05-26T01:56:40.509661",
     "exception": false,
     "start_time": "2025-05-26T01:56:40.486960",
     "status": "completed"
    },
    "tags": []
   },
   "outputs": [],
   "source": [
    "#Reset the index\n",
    "df = df.reset_index(drop=True)"
   ]
  },
  {
   "cell_type": "markdown",
   "id": "27eb8f09",
   "metadata": {
    "papermill": {
     "duration": 0.009716,
     "end_time": "2025-05-26T01:56:40.528818",
     "exception": false,
     "start_time": "2025-05-26T01:56:40.519102",
     "status": "completed"
    },
    "tags": []
   },
   "source": [
    "# Publish\n",
    "Save the cleaned dataset for use"
   ]
  },
  {
   "cell_type": "code",
   "execution_count": 25,
   "id": "28c320e7",
   "metadata": {
    "execution": {
     "iopub.execute_input": "2025-05-26T01:56:40.549299Z",
     "iopub.status.busy": "2025-05-26T01:56:40.548829Z",
     "iopub.status.idle": "2025-05-26T01:56:40.696681Z",
     "shell.execute_reply": "2025-05-26T01:56:40.695823Z"
    },
    "papermill": {
     "duration": 0.159253,
     "end_time": "2025-05-26T01:56:40.698259",
     "exception": false,
     "start_time": "2025-05-26T01:56:40.539006",
     "status": "completed"
    },
    "tags": []
   },
   "outputs": [],
   "source": [
    "#Save as CSV\n",
    "df.to_csv('/kaggle/working/cleaned_netflix.csv', index=False)"
   ]
  }
 ],
 "metadata": {
  "kaggle": {
   "accelerator": "none",
   "dataSources": [
    {
     "datasetId": 434238,
     "sourceId": 2654038,
     "sourceType": "datasetVersion"
    }
   ],
   "dockerImageVersionId": 31040,
   "isGpuEnabled": false,
   "isInternetEnabled": true,
   "language": "python",
   "sourceType": "notebook"
  },
  "kernelspec": {
   "display_name": "Python 3",
   "language": "python",
   "name": "python3"
  },
  "language_info": {
   "codemirror_mode": {
    "name": "ipython",
    "version": 3
   },
   "file_extension": ".py",
   "mimetype": "text/x-python",
   "name": "python",
   "nbconvert_exporter": "python",
   "pygments_lexer": "ipython3",
   "version": "3.11.11"
  },
  "papermill": {
   "default_parameters": {},
   "duration": 8.379403,
   "end_time": "2025-05-26T01:56:41.225194",
   "environment_variables": {},
   "exception": null,
   "input_path": "__notebook__.ipynb",
   "output_path": "__notebook__.ipynb",
   "parameters": {},
   "start_time": "2025-05-26T01:56:32.845791",
   "version": "2.6.0"
  }
 },
 "nbformat": 4,
 "nbformat_minor": 5
}
